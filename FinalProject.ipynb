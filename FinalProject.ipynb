{
 "cells": [
  {
   "cell_type": "code",
   "execution_count": 8,
   "metadata": {},
   "outputs": [
    {
     "name": "stdin",
     "output_type": "stream",
     "text": [
      "Adını Gir : Mustafa\n",
      "Soyadını Gir :  URHAN\n"
     ]
    },
    {
     "name": "stdout",
     "output_type": "stream",
     "text": [
      "Tebrikler, Başarıyla giriş yaptınız\n",
      "Lütfen Listeden en az 3, en fazla 5 ders seçiniz\n",
      "['1:Matematik', '2:Fizik', '3:Kimya', '4:Biyoloji', '5:Türkçe']\n"
     ]
    },
    {
     "name": "stdin",
     "output_type": "stream",
     "text": [
      "Ders seçiminizi yapınız (1-6): 1\n"
     ]
    },
    {
     "name": "stdout",
     "output_type": "stream",
     "text": [
      "\n",
      "=> 1:Matematik dersi başarıyle eklendi \n",
      "\n",
      "['1:Matematik']\n",
      "Toplam 1 ders aldınız\n",
      "En az 3 ders seçmek zorundasınız yoksa kalırsınız!\n"
     ]
    },
    {
     "name": "stdin",
     "output_type": "stream",
     "text": [
      "Ders seçiminizi yapınız (1-6): 2\n"
     ]
    },
    {
     "name": "stdout",
     "output_type": "stream",
     "text": [
      "\n",
      "=> 2:Fizik dersi başarıyle eklendi \n",
      "\n",
      "['1:Matematik', '2:Fizik']\n",
      "Toplam 2 ders aldınız\n",
      "En az 3 ders seçmek zorundasınız yoksa kalırsınız!\n"
     ]
    },
    {
     "name": "stdin",
     "output_type": "stream",
     "text": [
      "Ders seçiminizi yapınız (1-6): 3\n"
     ]
    },
    {
     "name": "stdout",
     "output_type": "stream",
     "text": [
      "\n",
      "=> 3:Kimya dersi başarıyle eklendi \n",
      "\n",
      "['1:Matematik', '2:Fizik', '3:Kimya']\n",
      "Toplam 3 ders aldınız\n",
      "Hatırlatma! 5 ders seçebilirsiniz.\n"
     ]
    },
    {
     "name": "stdin",
     "output_type": "stream",
     "text": [
      "Ders seçiminizi yapınız (1-6): 4\n"
     ]
    },
    {
     "name": "stdout",
     "output_type": "stream",
     "text": [
      "\n",
      "=> 4:Biyoloji dersi başarıyle eklendi \n",
      "\n",
      "['1:Matematik', '2:Fizik', '3:Kimya', '4:Biyoloji']\n",
      "Toplam 4 ders aldınız\n",
      "Hatırlatma! 5 ders seçebilirsiniz.\n"
     ]
    },
    {
     "name": "stdin",
     "output_type": "stream",
     "text": [
      "Ders seçiminizi yapınız (1-6): 5\n"
     ]
    },
    {
     "name": "stdout",
     "output_type": "stream",
     "text": [
      "\n",
      "=> 5:Türkçe dersi başarıyle eklendi \n",
      "\n",
      "['1:Matematik', '2:Fizik', '3:Kimya', '4:Biyoloji', '5:Türkçe']\n",
      "Toplam 5 ders aldınız\n",
      "Ders seçimini başarıyla tamamladınız.\n"
     ]
    },
    {
     "name": "stdin",
     "output_type": "stream",
     "text": [
      "Sınav Ders seçiminizi yapınız (1-5): 1\n"
     ]
    },
    {
     "name": "stdout",
     "output_type": "stream",
     "text": [
      "***NOTLARINIZI GİRİNİZ.***\n"
     ]
    },
    {
     "name": "stdin",
     "output_type": "stream",
     "text": [
      "Midterm:  70\n",
      "Project:  30\n",
      "Final:  50\n"
     ]
    },
    {
     "name": "stdout",
     "output_type": "stream",
     "text": [
      "Ders sonucunuz: (CC) 52.0\n",
      "Tebrikler Geçtiniz.\n"
     ]
    }
   ],
   "source": [
    "ogr_ad=\"Mustafa\"\n",
    "ogr_soyad=\"URHAN\"\n",
    "giris_hakki=3\n",
    "\n",
    "while True:\n",
    "    ad=input('Adını Gir :' )\n",
    "    soyad=input('Soyadını Gir : ')\n",
    "    if (ogr_ad != ad and ogr_soyad == soyad):\n",
    "        print(\"Ad veya soyadınız hatalı\")\n",
    "        giris_hakki-=1\n",
    "        if (giris_hakki)<1:\n",
    "            print(\"Hakkınız bitti\")\n",
    "            break\n",
    "        else:\n",
    "            continue\n",
    "    elif (ogr_ad==ad and ogr_soyad != soyad):\n",
    "        print(\"Ad veya soyadınız hatalı\")\n",
    "        giris_hakki-=1\n",
    "        if (giris_hakki)<1:\n",
    "            print(\"Hakkınız bitti\")\n",
    "            break\n",
    "        else:\n",
    "            continue\n",
    "           \n",
    "    elif (ogr_ad != ad and ogr_soyad!= soyad):\n",
    "        print(\"Ad veya soyadınız hatalı\")\n",
    "        giris_hakki-=1\n",
    "        if (giris_hakki)<1:\n",
    "            print(\"Please try again later\")\n",
    "            break\n",
    "        else:\n",
    "            continue\n",
    "       \n",
    "    else: \n",
    "        print(\"Tebrikler, Başarıyla giriş yaptınız\")\n",
    "        break\n",
    "    \n",
    "courses = [\"1:Matematik\", \"2:Fizik\", \"3:Kimya\", \"4:Biyoloji\", \"5:Türkçe\"]\n",
    "courssum = len(courses)\n",
    "takecours = []\n",
    "\n",
    "print(\"Lütfen Listeden en az 3, en fazla 5 ders seçiniz\")\n",
    "print(courses)\n",
    "count1=0\n",
    "while count1<6:\n",
    "    selectcourse = int(input(\"Ders seçiminizi yapınız (1-6):\"))\n",
    "    if(selectcourse == 1):\n",
    "        if('1:Matematik' in takecours):\n",
    "                print(\"Matematiği zaten almışsın !\")\n",
    "                count1-=1\n",
    "        else:\n",
    "                takecours.append(courses[0])\n",
    "                print(\"\\n=> {} dersi başarıyle eklendi \\n\".format(courses[0]))\n",
    "                print(takecours)\n",
    "    if(selectcourse == 2):\n",
    "        if('2:Fizik' in takecours):\n",
    "                print(\"Fiziği zaten almışsın !\")\n",
    "                count1-=1\n",
    "        else:\n",
    "                takecours.append(courses[1])\n",
    "                print(\"\\n=> {} dersi başarıyle eklendi \\n\".format(courses[1]))\n",
    "                print(takecours)\n",
    "    if(selectcourse == 3):\n",
    "        if('3:Kimya' in takecours):\n",
    "                print(\"Kimyayı zaten almışsın !\")\n",
    "                count1-=1\n",
    "        else:\n",
    "                takecours.append(courses[2])\n",
    "                print(\"\\n=> {} dersi başarıyle eklendi \\n\".format(courses[2]))\n",
    "                print(takecours)\n",
    "    if(selectcourse == 4):\n",
    "        if('4:Biyoloji' in takecours):\n",
    "                print(\"Biyolojiyi zaten almışsın !\")\n",
    "                count1-=1\n",
    "        else:\n",
    "                takecours.append(courses[3])\n",
    "                print(\"\\n=> {} dersi başarıyle eklendi \\n\".format(courses[3]))\n",
    "                print(takecours)\n",
    "    if(selectcourse == 5):\n",
    "        if('5:Türkçe' in takecours):\n",
    "                print(\"Türkçeyi zaten almışsın !\")\n",
    "                count1-=1\n",
    "        else:\n",
    "                takecours.append(courses[4])\n",
    "                print(\"\\n=> {} dersi başarıyle eklendi \\n\".format(courses[4]))\n",
    "                print(takecours)\n",
    "    count1 += 1\n",
    "    print(\"Toplam {} ders aldınız\".format(len(takecours)))\n",
    "    if count1<3:\n",
    "            print(\"En az 3 ders seçmek zorundasınız yoksa kalırsınız!\")\n",
    "    if count1 >= 3 and count1<5:\n",
    "            print(\"Hatırlatma! 5 ders seçebilirsiniz.\")\n",
    "    if count1==5:\n",
    "            print(\"Ders seçimini başarıyla tamamladınız.\")\n",
    "            sinavDersSecim = int(input(\"Sınav Ders seçiminizi yapınız (1-5):\"))\n",
    "            break\n",
    "\n",
    "            if (sinavDersSecim == 1):\n",
    "             print(\"Sınava Gireceğiniz ders Matematik\")\n",
    "\n",
    "            if (sinavDersSecim == 2):\n",
    "             print(\"\\n*Sınava Gireceğiniz ders Fizik\")\n",
    "\n",
    "            if (sinavDersSecim == 3):\n",
    "             print(\"\\n*Sınava Gireceğiniz ders Kimya\")\n",
    "\n",
    "            if (sinavDersSecim == 4):\n",
    "             print(\"\\n*Sınava Gireceğiniz ders Biyoloji\")\n",
    "\n",
    "            if (sinavDersSecim == 5):\n",
    "             print(\"\\n*Sınava Gireceğiniz ders Türkçe\")\n",
    "\n",
    "print(\"***NOTLARINIZI GİRİNİZ.***\")\n",
    "while True:\n",
    "    try:\n",
    "        midterm=int(input('Midterm: '))\n",
    "    except ValueError:\n",
    "        print(\"Rakam Giriniz.\")\n",
    "        exit(-1)\n",
    "    if 0<midterm<=100:\n",
    "        break\n",
    "    else:\n",
    "        print(\"Notunuz 0 ile 100 arasında olmalıdır.\")\n",
    "while True:\n",
    "    try:\n",
    "        project=int(input('Project: '))\n",
    "    except ValueError:\n",
    "        print(\"Rakam Giriniz.\")\n",
    "        exit(-1)\n",
    "    if 0<project<=100:\n",
    "        break\n",
    "    else:\n",
    "        print(\"Notunuz 0 ile 100 arasında olmalıdır.\")\n",
    "while True:\n",
    "    try:\n",
    "        final=int(input('Final: '))\n",
    "    except ValueError:\n",
    "        print(\"Rakam Giriniz.\")\n",
    "        exit(-1)\n",
    "    if 0<final<=100:\n",
    "        break\n",
    "    else:\n",
    "        print(\"Notunuz 0 ile 100 arasında olmalıdır.\")\n",
    "        \n",
    "        \n",
    "calculate = midterm * 0.3 + project * 0.2 + final * 0.5\n",
    "if 89 < calculate:\n",
    "    degree = \"AA\"\n",
    "elif 69 < calculate < 90:\n",
    "    degree = \"BB\"\n",
    "elif 49 < calculate < 70:\n",
    "    degree = \"CC\"\n",
    "elif 29 < calculate < 50:\n",
    "    degree = \"DD\"\n",
    "elif calculate< 30:\n",
    "    degree = \"FF\"\n",
    "\n",
    "print(\"Ders sonucunuz: ({}) {}\".format(degree, round(calculate, 2)))\n",
    "if degree == 'FF':\n",
    "    print(\"Kaldınız!\")\n",
    "else:\n",
    "    print(\"Tebrikler Geçtiniz.\")\n"
   ]
  },
  {
   "cell_type": "code",
   "execution_count": null,
   "metadata": {},
   "outputs": [],
   "source": []
  }
 ],
 "metadata": {
  "kernelspec": {
   "display_name": "Python 3",
   "language": "python",
   "name": "python3"
  },
  "language_info": {
   "codemirror_mode": {
    "name": "ipython",
    "version": 3
   },
   "file_extension": ".py",
   "mimetype": "text/x-python",
   "name": "python",
   "nbconvert_exporter": "python",
   "pygments_lexer": "ipython3",
   "version": "3.8.5"
  }
 },
 "nbformat": 4,
 "nbformat_minor": 4
}
