{
 "cells": [
  {
   "cell_type": "code",
   "execution_count": null,
   "metadata": {},
   "outputs": [],
   "source": [
    "# Take 5 value from the user"
   ]
  },
  {
   "cell_type": "code",
   "execution_count": 5,
   "metadata": {},
   "outputs": [
    {
     "name": "stdin",
     "output_type": "stream",
     "text": [
      "1.sayı :  2\n",
      "2.sayı :  5\n",
      "3.sayı :  6\n",
      "4.sayı :  8\n",
      "5.sayı :  1\n"
     ]
    },
    {
     "name": "stdout",
     "output_type": "stream",
     "text": [
      "Girdiğiniz sayi 2 ve sayinin tipi <class 'int'>\n",
      "<class 'int'>\n",
      "Girdiğiniz sayi 5 ve sayinin tipi <class 'int'>\n",
      "<class 'int'>\n",
      "Girdiğiniz sayi 6 ve sayinin tipi <class 'int'>\n",
      "<class 'int'>\n",
      "Girdiğiniz sayi 8 ve sayinin tipi <class 'int'>\n",
      "<class 'int'>\n",
      "Girdiğiniz sayi 1 ve sayinin tipi <class 'int'>\n",
      "<class 'int'>\n"
     ]
    }
   ],
   "source": [
    "sayi1=int(input('1.sayı : '))\n",
    "sayi2=int(input('2.sayı : '))\n",
    "sayi3=int(input('3.sayı : '))\n",
    "sayi4=int(input('4.sayı : '))\n",
    "sayi5=int(input('5.sayı : '))\n",
    "for i in sayi1,sayi2,sayi3,sayi4,sayi5:\n",
    "    a=type(i)\n",
    "    print(f'Girdiğiniz sayi {i} ve sayinin tipi {a}')\n",
    "    print(a)\n",
    "    \n",
    "    \n"
   ]
  },
  {
   "cell_type": "code",
   "execution_count": null,
   "metadata": {},
   "outputs": [],
   "source": []
  }
 ],
 "metadata": {
  "kernelspec": {
   "display_name": "Python 3",
   "language": "python",
   "name": "python3"
  },
  "language_info": {
   "codemirror_mode": {
    "name": "ipython",
    "version": 3
   },
   "file_extension": ".py",
   "mimetype": "text/x-python",
   "name": "python",
   "nbconvert_exporter": "python",
   "pygments_lexer": "ipython3",
   "version": "3.8.5"
  }
 },
 "nbformat": 4,
 "nbformat_minor": 4
}
