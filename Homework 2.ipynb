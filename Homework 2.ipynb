{
 "cells": [
  {
   "cell_type": "code",
   "execution_count": 47,
   "metadata": {},
   "outputs": [
    {
     "name": "stdin",
     "output_type": "stream",
     "text": [
      "First name:  mus\n",
      "Last_name:  ur\n",
      "Age:  22\n",
      "This Year:  2020\n"
     ]
    },
    {
     "name": "stdout",
     "output_type": "stream",
     "text": [
      "You can go out but you must be carefully\n"
     ]
    }
   ],
   "source": [
    "kullanici = [First_name,Last_name,Age,Date_Time] \n",
    "First_name=input('First name: ')\n",
    "Last_name=input('Last_name: ')\n",
    "Age=int(input('Age: '))\n",
    "Date_Time=int(input('This Year: '))\n",
    "if Date_Time-Age >2002:\n",
    "    print(\"You can't go out because it's too dangerous\")\n",
    "else:\n",
    "    print(\"You can go out but you must be carefully\")\n"
   ]
  },
  {
   "cell_type": "code",
   "execution_count": null,
   "metadata": {},
   "outputs": [],
   "source": []
  }
 ],
 "metadata": {
  "kernelspec": {
   "display_name": "Python 3",
   "language": "python",
   "name": "python3"
  },
  "language_info": {
   "codemirror_mode": {
    "name": "ipython",
    "version": 3
   },
   "file_extension": ".py",
   "mimetype": "text/x-python",
   "name": "python",
   "nbconvert_exporter": "python",
   "pygments_lexer": "ipython3",
   "version": "3.8.5"
  }
 },
 "nbformat": 4,
 "nbformat_minor": 4
}
