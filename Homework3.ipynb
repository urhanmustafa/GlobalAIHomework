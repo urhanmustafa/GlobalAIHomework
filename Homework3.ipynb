{
 "cells": [
  {
   "cell_type": "code",
   "execution_count": null,
   "metadata": {},
   "outputs": [],
   "source": []
  },
  {
   "cell_type": "code",
   "execution_count": 63,
   "metadata": {},
   "outputs": [
    {
     "name": "stdin",
     "output_type": "stream",
     "text": [
      "Please enter user name :  mu\n"
     ]
    },
    {
     "name": "stdout",
     "output_type": "stream",
     "text": [
      "Welcome mu to the game\n"
     ]
    },
    {
     "name": "stdin",
     "output_type": "stream",
     "text": [
      "Bir harf veya kelime yazınız:  g\n"
     ]
    },
    {
     "name": "stdout",
     "output_type": "stream",
     "text": [
      "*\n",
      "*\n",
      "*\n",
      "*\n",
      "*\n",
      "*\n",
      "*\n",
      "*\n",
      "*\n",
      "*\n"
     ]
    },
    {
     "name": "stdin",
     "output_type": "stream",
     "text": [
      "Bir harf veya kelime yazınız:  galatasaray\n"
     ]
    },
    {
     "name": "stdout",
     "output_type": "stream",
     "text": [
      "*\n",
      "*\n",
      "*\n",
      "*\n",
      "*\n",
      "*\n",
      "*\n",
      "*\n",
      "*\n",
      "*\n"
     ]
    },
    {
     "name": "stdin",
     "output_type": "stream",
     "text": [
      "Bir harf veya kelime yazınız:  m\n"
     ]
    },
    {
     "name": "stdout",
     "output_type": "stream",
     "text": [
      "*\n",
      "*\n",
      "*\n",
      "*\n",
      "*\n",
      "*\n",
      "*\n",
      "*\n",
      "*\n",
      "*\n"
     ]
    },
    {
     "name": "stdin",
     "output_type": "stream",
     "text": [
      "Bir harf veya kelime yazınız:  a\n"
     ]
    },
    {
     "name": "stdout",
     "output_type": "stream",
     "text": [
      "a\n",
      "*\n",
      "*\n",
      "*\n",
      "*\n",
      "*\n",
      "*\n",
      "*\n",
      "a\n",
      "*\n"
     ]
    },
    {
     "name": "stdin",
     "output_type": "stream",
     "text": [
      "Bir harf veya kelime yazınız:  s\n"
     ]
    },
    {
     "name": "stdout",
     "output_type": "stream",
     "text": [
      "a\n",
      "*\n",
      "*\n",
      "*\n",
      "*\n",
      "*\n",
      "*\n",
      "*\n",
      "a\n",
      "*\n"
     ]
    },
    {
     "name": "stdin",
     "output_type": "stream",
     "text": [
      "Bir harf veya kelime yazınız:  d\n"
     ]
    },
    {
     "name": "stdout",
     "output_type": "stream",
     "text": [
      "a\n",
      "*\n",
      "*\n",
      "*\n",
      "*\n",
      "*\n",
      "*\n",
      "*\n",
      "a\n",
      "*\n"
     ]
    },
    {
     "name": "stdin",
     "output_type": "stream",
     "text": [
      "Bir harf veya kelime yazınız:  f\n"
     ]
    },
    {
     "name": "stdout",
     "output_type": "stream",
     "text": [
      "a\n",
      "*\n",
      "*\n",
      "*\n",
      "f\n",
      "*\n",
      "*\n",
      "*\n",
      "a\n",
      "*\n"
     ]
    },
    {
     "name": "stdin",
     "output_type": "stream",
     "text": [
      "Bir harf veya kelime yazınız:  s\n"
     ]
    },
    {
     "name": "stdout",
     "output_type": "stream",
     "text": [
      "a\n",
      "*\n",
      "*\n",
      "*\n",
      "f\n",
      "*\n",
      "*\n",
      "*\n",
      "a\n",
      "*\n"
     ]
    },
    {
     "name": "stdin",
     "output_type": "stream",
     "text": [
      "Bir harf veya kelime yazınız:  d\n"
     ]
    },
    {
     "name": "stdout",
     "output_type": "stream",
     "text": [
      "a\n",
      "*\n",
      "*\n",
      "*\n",
      "f\n",
      "*\n",
      "*\n",
      "*\n",
      "a\n",
      "*\n"
     ]
    },
    {
     "name": "stdin",
     "output_type": "stream",
     "text": [
      "Bir harf veya kelime yazınız:  g\n"
     ]
    },
    {
     "name": "stdout",
     "output_type": "stream",
     "text": [
      "a\n",
      "*\n",
      "*\n",
      "*\n",
      "f\n",
      "*\n",
      "*\n",
      "*\n",
      "a\n",
      "*\n",
      "\n",
      "Kaybettiniz :((((\n"
     ]
    }
   ],
   "source": [
    "import time\n",
    "import random\n",
    "\n",
    "kullanici_adi = input(\"Please enter user name : \")\n",
    "print(f\"Welcome {kullanici_adi} to the game\")\n",
    "count=0\n",
    "tahminler=[]\n",
    "Kelime_listesi = [\"galatasaray\",\"global\",\"artificial\",\"intelligence\",\"machine\",\"learning\"]\n",
    "sec=random.choice(Kelime_listesi)\n",
    "uzunluk=len(sec)\n",
    "\n",
    "while count < 10:\n",
    "    tahmin = input(\"Bir harf veya kelime yazınız: \")\n",
    "    tahminler.append(tahmin)\n",
    "    if ''.join(tahmin) == sec:\n",
    "        print('Tebrikler Kazandınız!!!')\n",
    "        break\n",
    "\n",
    "    else:\n",
    "        for char in sec:\n",
    "            if char in tahminler:\n",
    "                tahminler.append(char)\n",
    "                print(char)\n",
    "            else:\n",
    "                print('*')\n",
    "        count += 1\n",
    "else:\n",
    "    print('\\nKaybettiniz :((((')\n"
   ]
  },
  {
   "cell_type": "code",
   "execution_count": null,
   "metadata": {},
   "outputs": [],
   "source": []
  },
  {
   "cell_type": "code",
   "execution_count": null,
   "metadata": {},
   "outputs": [],
   "source": []
  }
 ],
 "metadata": {
  "kernelspec": {
   "display_name": "Python 3",
   "language": "python",
   "name": "python3"
  },
  "language_info": {
   "codemirror_mode": {
    "name": "ipython",
    "version": 3
   },
   "file_extension": ".py",
   "mimetype": "text/x-python",
   "name": "python",
   "nbconvert_exporter": "python",
   "pygments_lexer": "ipython3",
   "version": "3.8.5"
  }
 },
 "nbformat": 4,
 "nbformat_minor": 4
}
